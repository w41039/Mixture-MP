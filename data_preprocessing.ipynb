{
 "cells": [
  {
   "cell_type": "code",
   "execution_count": 11,
   "id": "f44b017b-9192-4716-9be0-54de7b8fbbe2",
   "metadata": {
    "tags": []
   },
   "outputs": [],
   "source": [
    "import numpy as np\n",
    "import pandas as pd\n",
    "import statsmodels.api as sm\n",
    "from statsmodels.formula.api import ols"
   ]
  },
  {
   "cell_type": "code",
   "execution_count": 2,
   "id": "85c005a0-069d-4cc1-a934-0847096abf8d",
   "metadata": {
    "tags": []
   },
   "outputs": [],
   "source": [
    "data = pd.read_csv('german.data', header = None,delim_whitespace = True)\n",
    "data[data == '?']= np.nan\n",
    "data.dropna(axis = 0,inplace = True)\n",
    "y_data = data.iloc[:,20].values #convert strings to integer\n",
    "x_data =  data.iloc[:,0:20]\n",
    "\n",
    "#set to binary\n",
    "y_data[y_data==1]=0 #good\n",
    "y_data[y_data==2] = 1 #bad\n",
    "y_data = y_data.astype('int')\n",
    "\n",
    "#convert to dummy \n",
    "d = np.shape(x_data)[1]\n",
    "types = np.array([1.,0.,1.,1.,0.,1.,1.,0.,1.,1.,0.,1.,0.,1.,1.,0.,1.,0.,1.,1.,])\n",
    "for j in range(d):\n",
    "    if types[j] ==1.:\n",
    "        x_data.iloc[:,j] = pd.factorize(x_data.iloc[:,j])[0]\n",
    "x_data = x_data.values"
   ]
  },
  {
   "cell_type": "code",
   "execution_count": 3,
   "id": "8b28b921-1c56-48ab-bada-74d6f8e911d0",
   "metadata": {
    "tags": []
   },
   "outputs": [
    {
     "data": {
      "text/plain": [
       "array([[0, 6, 0, ..., 1, 0, 0],\n",
       "       [1, 48, 1, ..., 1, 1, 0],\n",
       "       [2, 12, 0, ..., 2, 1, 0],\n",
       "       ...,\n",
       "       [2, 12, 1, ..., 1, 1, 0],\n",
       "       [0, 45, 1, ..., 1, 0, 0],\n",
       "       [1, 45, 0, ..., 1, 1, 0]], dtype=object)"
      ]
     },
     "execution_count": 3,
     "metadata": {},
     "output_type": "execute_result"
    }
   ],
   "source": [
    "x_data"
   ]
  },
  {
   "cell_type": "code",
   "execution_count": 4,
   "id": "59e65a71-dc46-4c65-91ab-11ffd18a3f63",
   "metadata": {
    "tags": []
   },
   "outputs": [],
   "source": [
    "x = x_data.astype(float)"
   ]
  },
  {
   "cell_type": "code",
   "execution_count": 5,
   "id": "52dc3149-5b43-44f4-83ae-8e7fc1e93228",
   "metadata": {
    "tags": []
   },
   "outputs": [],
   "source": [
    "mean_x = np.mean(x,axis = 0)\n",
    "std_x = np.std(x,axis = 0)\n",
    "x = (x-mean_x)/std_x"
   ]
  },
  {
   "cell_type": "code",
   "execution_count": 35,
   "id": "c011e98e-2c71-47fc-afa6-ad54150cd029",
   "metadata": {
    "tags": []
   },
   "outputs": [],
   "source": [
    "header = ','.join(map(str, range(1, 21)))\n",
    "\n",
    "# Save the array to a CSV file\n",
    "np.savetxt('x.csv', x, delimiter=',', header=header, comments='', fmt='%.5f')"
   ]
  },
  {
   "cell_type": "code",
   "execution_count": 36,
   "id": "01c27893-fce2-4aab-a72a-775ed4f436cb",
   "metadata": {
    "tags": []
   },
   "outputs": [],
   "source": [
    "headery = 'y'\n",
    "\n",
    "# Save the array to a CSV file\n",
    "np.savetxt('y.csv', y_data, delimiter=',', header=headery, comments='', fmt='%.5f')"
   ]
  },
  {
   "cell_type": "code",
   "execution_count": null,
   "id": "973d0c91-9248-4ce4-ba1b-d79687ed3596",
   "metadata": {},
   "outputs": [],
   "source": []
  }
 ],
 "metadata": {
  "kernelspec": {
   "display_name": "Python 3 (ipykernel)",
   "language": "python",
   "name": "python3"
  },
  "language_info": {
   "codemirror_mode": {
    "name": "ipython",
    "version": 3
   },
   "file_extension": ".py",
   "mimetype": "text/x-python",
   "name": "python",
   "nbconvert_exporter": "python",
   "pygments_lexer": "ipython3",
   "version": "3.11.5"
  }
 },
 "nbformat": 4,
 "nbformat_minor": 5
}
