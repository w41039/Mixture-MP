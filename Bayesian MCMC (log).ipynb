{
 "cells": [
  {
   "cell_type": "code",
   "execution_count": 1,
   "id": "3f7994db-efe5-418f-bf1b-a1891628ad29",
   "metadata": {
    "scrolled": true,
    "tags": []
   },
   "outputs": [],
   "source": [
    "using CSV\n",
    "using DataFrames\n",
    "using GLM\n",
    "using Statistics\n",
    "using Random\n",
    "using Distributions\n",
    "using Plots,StatsPlots\n",
    "using DelimitedFiles\n",
    "using SciPy\n",
    "using PyPlot\n",
    "using PyCall\n",
    "using Normalization\n",
    "using LinearAlgebra\n",
    "@pyimport seaborn as sns\n",
    "using Turing\n",
    "using MCMCChains\n",
    "\n",
    "# We need a logistic function, which is provided by StatsFuns.\n",
    "using StatsFuns: logistic\n"
   ]
  },
  {
   "cell_type": "code",
   "execution_count": 2,
   "id": "48411807-c487-4cff-be48-640d6cefe43b",
   "metadata": {
    "tags": []
   },
   "outputs": [
    {
     "data": {
      "text/plain": [
       "PyObject <module 'numpy' from 'C:\\\\Users\\\\w4103\\\\.julia\\\\conda\\\\3\\\\x86_64\\\\Lib\\\\site-packages\\\\numpy\\\\__init__.py'>"
      ]
     },
     "execution_count": 2,
     "metadata": {},
     "output_type": "execute_result"
    }
   ],
   "source": [
    "np = pyimport(\"numpy\")"
   ]
  },
  {
   "cell_type": "code",
   "execution_count": 3,
   "id": "5f975f76-0cf5-4dc7-93a3-435fb6235b9b",
   "metadata": {
    "tags": []
   },
   "outputs": [
    {
     "data": {
      "text/plain": [
       "1000×21 Matrix{Float64}:\n",
       " 1.0  -1.344    -1.23648  -1.03158  -1.18748  …  -0.42829  -1.2146   -0.19601\n",
       " 1.0  -0.26535   2.24819  -0.02221  -1.18748     -0.42829   0.82332  -0.19601\n",
       " 1.0   0.8133   -0.73867  -1.03158  -0.69556      2.33487   0.82332  -0.19601\n",
       " 1.0  -1.344     1.75038  -0.02221  -0.20365      2.33487   0.82332  -0.19601\n",
       " 1.0  -1.344     0.25695   0.98717   0.28826      2.33487   0.82332  -0.19601\n",
       " 1.0   0.8133    1.25257  -0.02221  -0.69556  …   2.33487  -1.2146   -0.19601\n",
       " 1.0   0.8133    0.25695  -0.02221  -0.20365     -0.42829   0.82332  -0.19601\n",
       " 1.0  -0.26535   1.25257  -0.02221   0.78017     -0.42829  -1.2146   -0.19601\n",
       " 1.0   0.8133   -0.73867  -0.02221  -1.18748     -0.42829   0.82332  -0.19601\n",
       " 1.0  -0.26535   0.75476  -1.03158   0.28826     -0.42829   0.82332  -0.19601\n",
       " 1.0  -0.26535  -0.73867  -0.02221   0.28826  …  -0.42829   0.82332  -0.19601\n",
       " 1.0  -1.344     2.24819  -0.02221   1.27209     -0.42829   0.82332  -0.19601\n",
       " 1.0  -0.26535  -0.73867  -0.02221  -1.18748     -0.42829  -1.2146   -0.19601\n",
       " ⋮                                            ⋱                       ⋮\n",
       " 1.0  -1.344     0.25695  -0.02221   0.78017     -0.42829  -1.2146   -0.19601\n",
       " 1.0  -0.26535   0.25695  -1.03158  -1.18748     -0.42829   0.82332  -0.19601\n",
       " 1.0   0.8133   -0.73867  -1.03158  -0.69556  …   2.33487   0.82332  -0.19601\n",
       " 1.0   0.8133   -0.48976   3.00591  -1.18748      2.33487   0.82332  -0.19601\n",
       " 1.0  -1.344    -0.24086  -0.02221  -1.18748     -0.42829   0.82332  -0.19601\n",
       " 1.0  -1.344     1.25257  -0.02221  -0.20365     -0.42829  -1.2146   -0.19601\n",
       " 1.0   0.8133   -0.73867  -0.02221   0.28826     -0.42829  -1.2146   -0.19601\n",
       " 1.0   0.8133   -0.73867  -0.02221  -0.20365  …  -0.42829   0.82332  -0.19601\n",
       " 1.0  -1.344     0.75476  -0.02221   0.78017     -0.42829  -1.2146   -0.19601\n",
       " 1.0   0.8133   -0.73867  -0.02221  -1.18748     -0.42829   0.82332  -0.19601\n",
       " 1.0  -1.344     1.99929  -0.02221  -1.18748     -0.42829  -1.2146   -0.19601\n",
       " 1.0  -0.26535   1.99929  -1.03158   0.78017     -0.42829   0.82332  -0.19601"
      ]
     },
     "execution_count": 3,
     "metadata": {},
     "output_type": "execute_result"
    }
   ],
   "source": [
    "# Load the data\n",
    "x_data = CSV.read(\"x.csv\", DataFrame)  # Load predictors\n",
    "y_data = CSV.read(\"y.csv\", DataFrame)  # Load target labels (assumes a single column)\n",
    "X = Matrix(x_data)\n",
    "y = y_data.y\n",
    "X = hcat(ones(size(X,1)),X)"
   ]
  },
  {
   "cell_type": "code",
   "execution_count": 4,
   "id": "53b1d63c-63c9-400e-b9fc-1bb283bb430a",
   "metadata": {
    "tags": []
   },
   "outputs": [
    {
     "data": {
      "text/plain": [
       "train_test_split (generic function with 1 method)"
      ]
     },
     "execution_count": 4,
     "metadata": {},
     "output_type": "execute_result"
    }
   ],
   "source": [
    "function train_test_split(X, y, test_size, shuffle,seed)\n",
    "    # Set seed for reproducibility\n",
    "    if seed !== nothing\n",
    "        Random.seed!(seed)\n",
    "    end\n",
    "\n",
    "    n = length(y)  # Number of samples\n",
    "    indices = collect(1:n)  # Create an index array\n",
    "\n",
    "    # Shuffle indices if needed\n",
    "    if shuffle\n",
    "        shuffle!(indices)\n",
    "    end\n",
    "\n",
    "    # Compute train-test split index\n",
    "    split_idx = Int(round(n * (1 - test_size)))\n",
    "\n",
    "    # Split indices into training and testing sets\n",
    "    train_indices = indices[1:split_idx]\n",
    "    test_indices = indices[split_idx+1:end]\n",
    "\n",
    "    # Extract train and test sets\n",
    "    X_train, X_test = X[train_indices, :], X[test_indices, :]\n",
    "    y_train, y_test = y[train_indices], y[test_indices]\n",
    "\n",
    "    return X_train, X_test, y_train, y_test\n",
    "end"
   ]
  },
  {
   "cell_type": "code",
   "execution_count": 5,
   "id": "057e6648-dc7a-4697-b489-dfc29bc8f6d8",
   "metadata": {
    "tags": []
   },
   "outputs": [
    {
     "data": {
      "text/plain": [
       "42"
      ]
     },
     "execution_count": 5,
     "metadata": {},
     "output_type": "execute_result"
    }
   ],
   "source": [
    "rseed = 42"
   ]
  },
  {
   "cell_type": "code",
   "execution_count": 6,
   "id": "639972ff-8233-4cfb-9218-9b1ebbe47f9d",
   "metadata": {
    "tags": []
   },
   "outputs": [
    {
     "name": "stdout",
     "output_type": "stream",
     "text": [
      "Train size: (900, 21)\n",
      "Test size: (100, 21)\n"
     ]
    }
   ],
   "source": [
    "X_train, X_test, y_train, y_test = train_test_split(X, y, 0.1, true, rseed)\n",
    "\n",
    "println(\"Train size: \", size(X_train))\n",
    "println(\"Test size: \", size(X_test))"
   ]
  },
  {
   "cell_type": "code",
   "execution_count": 7,
   "id": "7d278f9b-63b2-4179-8543-1b283ac80722",
   "metadata": {
    "tags": []
   },
   "outputs": [
    {
     "data": {
      "text/plain": [
       "11-element Vector{Int64}:\n",
       "  5\n",
       "  7\n",
       "  8\n",
       " 11\n",
       " 12\n",
       " 13\n",
       " 14\n",
       " 15\n",
       " 17\n",
       " 18\n",
       " 19"
      ]
     },
     "execution_count": 7,
     "metadata": {},
     "output_type": "execute_result"
    }
   ],
   "source": [
    "cols_to_remove = [5, 7, 8, 11, 12, 13, 14, 15, 17, 18, 19]"
   ]
  },
  {
   "cell_type": "code",
   "execution_count": 8,
   "id": "f89b2f0c-dc2e-42fb-a5c8-df5abef2f480",
   "metadata": {
    "tags": []
   },
   "outputs": [
    {
     "data": {
      "text/plain": [
       "100×10 Matrix{Float64}:\n",
       " 1.0   0.8133   -1.23648  -1.03158  -1.07086  …  -0.5982    0.82332  -0.19601\n",
       " 1.0   0.8133   -0.48976  -0.02221  -0.19964     -0.5982    0.82332  -0.19601\n",
       " 1.0   0.8133   -0.73867  -0.02221  -0.66574     -0.5982   -1.2146   -0.19601\n",
       " 1.0   0.8133    1.25257  -1.03158   1.07494     -0.5982    0.82332  -0.19601\n",
       " 1.0   0.8133    1.00367   0.98717  -0.17979     -0.5982   -1.2146   -0.19601\n",
       " 1.0   0.8133    2.746     1.99654   2.18505  …  -0.5982    0.82332  -0.19601\n",
       " 1.0   0.8133   -0.73867  -1.03158  -0.71997     -0.5982   -1.2146   -0.19601\n",
       " 1.0  -0.26535   0.75476  -0.02221  -0.09934     -0.5982    0.82332  -0.19601\n",
       " 1.0  -0.26535  -0.24086  -1.03158  -0.84615     -0.5982   -1.2146   -0.19601\n",
       " 1.0   0.8133   -0.73867  -1.03158  -0.44634     -0.5982    0.82332  -0.19601\n",
       " 1.0  -0.26535   0.25695  -0.02221  -0.18121  …   0.68549  -1.2146   -0.19601\n",
       " 1.0  -1.344    -0.24086  -0.02221  -0.31271     -0.5982    0.82332  -0.19601\n",
       " 1.0  -0.26535  -1.23648   0.98717  -0.78731     -0.5982   -1.2146   -0.19601\n",
       " ⋮                                            ⋱                      \n",
       " 1.0  -1.344    -0.24086   3.00591  -0.64837      0.68549   0.82332  -0.19601\n",
       " 1.0  -0.26535   0.25695  -0.02221   0.08533     -0.5982   -1.2146   -0.19601\n",
       " 1.0  -0.26535   0.25695  -1.03158   1.5903   …   1.96919   0.82332  -0.19601\n",
       " 1.0   1.89195  -0.98757  -0.02221  -0.76037     -0.5982    0.82332  -0.19601\n",
       " 1.0  -0.26535   0.25695   3.00591  -0.50836      0.68549   0.82332  -0.19601\n",
       " 1.0   0.8133   -0.73867  -1.03158  -0.73946     -0.5982    0.82332  -0.19601\n",
       " 1.0  -0.26535   0.42289  -0.02221   1.66402     -0.5982    0.82332  -0.19601\n",
       " 1.0   0.8133    2.24819  -1.03158   0.10872  …  -0.5982   -1.2146   -0.19601\n",
       " 1.0  -0.26535  -0.98757   3.00591  -0.65014     -0.5982    0.82332  -0.19601\n",
       " 1.0   0.8133    0.25695  -1.03158   0.27318     -0.5982   -1.2146   -0.19601\n",
       " 1.0  -0.26535  -0.24086  -0.02221  -0.09579      1.96919   0.82332  -0.19601\n",
       " 1.0  -0.26535   1.25257   0.98717   2.33427     -0.5982   -1.2146   -0.19601"
      ]
     },
     "execution_count": 8,
     "metadata": {},
     "output_type": "execute_result"
    }
   ],
   "source": [
    "X_train = X_train[:, setdiff(1:size(X_train, 2), cols_to_remove)]\n",
    "X_test = X_test[:, setdiff(1:size(X_test, 2), cols_to_remove)]"
   ]
  },
  {
   "cell_type": "code",
   "execution_count": 9,
   "id": "53aa9258-ee81-4828-8a0f-dc5e96b4492d",
   "metadata": {
    "tags": []
   },
   "outputs": [],
   "source": [
    "@model function logistic_regression(x, y, n, σ)\n",
    "    intercept ~ Normal(0, σ)\n",
    "\n",
    "    one ~ Normal(0, σ)\n",
    "    two ~ Normal(0, σ)\n",
    "    three ~ Normal(0, σ)\n",
    "    four ~ Normal(0, σ)\n",
    "    five ~ Normal(0, σ)\n",
    "    six ~ Normal(0, σ)\n",
    "    seven ~ Normal(0, σ)\n",
    "    eight ~ Normal(0, σ)\n",
    "    nine ~ Normal(0, σ)\n",
    "\n",
    "    for i in 1:n\n",
    "        v = logistic(intercept + one * x[i, 1] + two * x[i, 2] + three * x[i, 3]\n",
    "            + four * x[i, 4] + five * x[i, 5] + six * x[i, 6]\n",
    "            + seven * x[i, 7] + eight * x[i, 8] + nine * x[i, 9])\n",
    "        y[i] ~ Bernoulli(v)\n",
    "    end\n",
    "end;"
   ]
  },
  {
   "cell_type": "code",
   "execution_count": 10,
   "id": "96527ee2-87df-4ae3-979d-ead64fd535ac",
   "metadata": {
    "tags": []
   },
   "outputs": [
    {
     "name": "stderr",
     "output_type": "stream",
     "text": [
      "\u001b[36m\u001b[1m[ \u001b[22m\u001b[39m\u001b[36m\u001b[1mInfo: \u001b[22m\u001b[39m[Turing]: progress logging is disabled globally\n",
      "\u001b[36m\u001b[1m[ \u001b[22m\u001b[39m\u001b[36m\u001b[1mInfo: \u001b[22m\u001b[39m[AdvancedVI]: global PROGRESS is set as false\n"
     ]
    },
    {
     "data": {
      "text/plain": [
       "false"
      ]
     },
     "execution_count": 10,
     "metadata": {},
     "output_type": "execute_result"
    }
   ],
   "source": [
    "setprogress!(false)"
   ]
  },
  {
   "cell_type": "code",
   "execution_count": 12,
   "id": "4461f0cd-b078-48b5-8e82-ff82269e1959",
   "metadata": {
    "tags": []
   },
   "outputs": [
    {
     "name": "stderr",
     "output_type": "stream",
     "text": [
      "\u001b[33m\u001b[1m┌ \u001b[22m\u001b[39m\u001b[33m\u001b[1mWarning: \u001b[22m\u001b[39mOnly a single thread available: MCMC chains are not sampled in parallel\n",
      "\u001b[33m\u001b[1m└ \u001b[22m\u001b[39m\u001b[90m@ AbstractMCMC C:\\Users\\w4103\\.julia\\packages\\AbstractMCMC\\FSyVk\\src\\sample.jl:382\u001b[39m\n",
      "\u001b[36m\u001b[1m┌ \u001b[22m\u001b[39m\u001b[36m\u001b[1mInfo: \u001b[22m\u001b[39mFound initial step size\n",
      "\u001b[36m\u001b[1m└ \u001b[22m\u001b[39m  ϵ = 0.2\n"
     ]
    },
    {
     "name": "stdout",
     "output_type": "stream",
     "text": [
      " 58.232444 seconds (45.52 M allocations: 3.789 GiB, 3.45% gc time, 74.83% compilation time)\n"
     ]
    },
    {
     "data": {
      "text/plain": [
       "Chains MCMC chain (1000×22×1 Array{Float64, 3}):\n",
       "\n",
       "Iterations        = 501:1:1500\n",
       "Number of chains  = 1\n",
       "Samples per chain = 1000\n",
       "Wall duration     = 37.39 seconds\n",
       "Compute duration  = 37.39 seconds\n",
       "parameters        = intercept, one, two, three, four, five, six, seven, eight, nine\n",
       "internals         = lp, n_steps, is_accept, acceptance_rate, log_density, hamiltonian_energy, hamiltonian_energy_error, max_hamiltonian_energy_error, tree_depth, numerical_error, step_size, nom_step_size\n",
       "\n",
       "Summary Statistics\n",
       " \u001b[1m parameters \u001b[0m \u001b[1m    mean \u001b[0m \u001b[1m     std \u001b[0m \u001b[1m    mcse \u001b[0m \u001b[1m  ess_bulk \u001b[0m \u001b[1m ess_tail \u001b[0m \u001b[1m    rhat \u001b[0m \u001b[1m \u001b[0m ⋯\n",
       " \u001b[90m     Symbol \u001b[0m \u001b[90m Float64 \u001b[0m \u001b[90m Float64 \u001b[0m \u001b[90m Float64 \u001b[0m \u001b[90m   Float64 \u001b[0m \u001b[90m  Float64 \u001b[0m \u001b[90m Float64 \u001b[0m \u001b[90m \u001b[0m ⋯\n",
       "\n",
       "   intercept   -0.5551    0.7127    0.0436    266.0581   360.5326    1.0183    ⋯\n",
       "         one   -0.4683    0.7103    0.0425    275.4556   395.9872    1.0181    ⋯\n",
       "         two   -0.6406    0.0828    0.0028    834.4564   709.7250    0.9995    ⋯\n",
       "       three    0.2774    0.0976    0.0037    698.1568   594.2166    0.9990    ⋯\n",
       "        four    0.3827    0.0784    0.0029    715.8685   722.0107    1.0026    ⋯\n",
       "        five    0.3060    0.1079    0.0043    618.6664   825.3109    1.0003    ⋯\n",
       "         six    0.3098    0.0912    0.0030    930.8419   676.4312    0.9996    ⋯\n",
       "       seven    0.1964    0.0832    0.0023   1352.3826   654.6647    0.9999    ⋯\n",
       "       eight    0.1825    0.0784    0.0023   1184.6089   757.8167    1.0000    ⋯\n",
       "        nine    0.2215    0.0835    0.0023   1343.8378   814.9128    0.9997    ⋯\n",
       "\u001b[36m                                                                1 column omitted\u001b[0m\n",
       "\n",
       "Quantiles\n",
       " \u001b[1m parameters \u001b[0m \u001b[1m    2.5% \u001b[0m \u001b[1m   25.0% \u001b[0m \u001b[1m   50.0% \u001b[0m \u001b[1m   75.0% \u001b[0m \u001b[1m   97.5% \u001b[0m\n",
       " \u001b[90m     Symbol \u001b[0m \u001b[90m Float64 \u001b[0m \u001b[90m Float64 \u001b[0m \u001b[90m Float64 \u001b[0m \u001b[90m Float64 \u001b[0m \u001b[90m Float64 \u001b[0m\n",
       "\n",
       "   intercept   -1.9360   -1.0514   -0.5678   -0.0739    0.9295\n",
       "         one   -1.9259   -0.9494   -0.4545    0.0287    0.8918\n",
       "         two   -0.8141   -0.6955   -0.6371   -0.5818   -0.4906\n",
       "       three    0.0763    0.2106    0.2800    0.3423    0.4733\n",
       "        four    0.2366    0.3240    0.3835    0.4351    0.5339\n",
       "        five    0.1033    0.2315    0.3046    0.3756    0.5175\n",
       "         six    0.1342    0.2486    0.3116    0.3699    0.4906\n",
       "       seven    0.0333    0.1401    0.1967    0.2522    0.3601\n",
       "       eight    0.0263    0.1295    0.1841    0.2384    0.3338\n",
       "        nine    0.0602    0.1653    0.2211    0.2771    0.3911\n"
      ]
     },
     "execution_count": 12,
     "metadata": {},
     "output_type": "execute_result"
    }
   ],
   "source": [
    "n, _ = size(X_train)\n",
    "\n",
    "# Sample using NUTS.\n",
    "m = logistic_regression(X_train, y_train, n, 1)\n",
    "@time chain = sample(m, NUTS(), MCMCThreads(), 1_000, 1)"
   ]
  },
  {
   "cell_type": "code",
   "execution_count": null,
   "id": "f92a57a8-f49c-4ec3-be97-c5e795e23e72",
   "metadata": {},
   "outputs": [],
   "source": []
  }
 ],
 "metadata": {
  "kernelspec": {
   "display_name": "Julia 1.10.5",
   "language": "julia",
   "name": "julia-1.10"
  },
  "language_info": {
   "file_extension": ".jl",
   "mimetype": "application/julia",
   "name": "julia",
   "version": "1.10.5"
  }
 },
 "nbformat": 4,
 "nbformat_minor": 5
}
